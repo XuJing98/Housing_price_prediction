{
 "cells": [
  {
   "cell_type": "code",
   "execution_count": 1106,
   "metadata": {
    "colab": {},
    "colab_type": "code",
    "id": "SLqPm-ehBZ9I"
   },
   "outputs": [],
   "source": [
    "import pandas as pd\n",
    "import seaborn as sns\n",
    "import numpy as np\n",
    "from sklearn.model_selection import train_test_split\n",
    "from sklearn.ensemble import RandomForestRegressor\n",
    "from sklearn.metrics import mean_squared_error\n",
    "from sklearn.preprocessing import MinMaxScaler\n",
    "from sklearn.ensemble import GradientBoostingRegressor\n",
    "from sklearn.linear_model import LinearRegression\n",
    "import matplotlib.pyplot as plt\n",
    "import datetime"
   ]
  },
  {
   "cell_type": "code",
   "execution_count": 1107,
   "metadata": {
    "colab": {},
    "colab_type": "code",
    "id": "0Y2M5KInEyzJ"
   },
   "outputs": [],
   "source": [
    "data = pd.read_csv('./data/NSW2154.csv')"
   ]
  },
  {
   "cell_type": "code",
   "execution_count": 1108,
   "metadata": {
    "colab": {
     "base_uri": "https://localhost:8080/",
     "height": 970
    },
    "colab_type": "code",
    "id": "W6OnXkBzE4Rm",
    "outputId": "fb4eef38-a6f6-4d5d-c3a8-cf6fbd09dc3e"
   },
   "outputs": [
    {
     "data": {
      "text/html": [
       "<div>\n",
       "<style scoped>\n",
       "    .dataframe tbody tr th:only-of-type {\n",
       "        vertical-align: middle;\n",
       "    }\n",
       "\n",
       "    .dataframe tbody tr th {\n",
       "        vertical-align: top;\n",
       "    }\n",
       "\n",
       "    .dataframe thead th {\n",
       "        text-align: right;\n",
       "    }\n",
       "</style>\n",
       "<table border=\"1\" class=\"dataframe\">\n",
       "  <thead>\n",
       "    <tr style=\"text-align: right;\">\n",
       "      <th></th>\n",
       "      <th>Address</th>\n",
       "      <th>Beds</th>\n",
       "      <th>Baths</th>\n",
       "      <th>Cars</th>\n",
       "      <th>Area</th>\n",
       "      <th>Date</th>\n",
       "      <th>Ptype</th>\n",
       "      <th>Latitude</th>\n",
       "      <th>Longitude</th>\n",
       "      <th>Price</th>\n",
       "      <th>Closest Station</th>\n",
       "      <th>Straight Distance (km)</th>\n",
       "    </tr>\n",
       "  </thead>\n",
       "  <tbody>\n",
       "    <tr>\n",
       "      <th>0</th>\n",
       "      <td>2 Acer Glen Castle Hill, NSW, 2154</td>\n",
       "      <td>5</td>\n",
       "      <td>3</td>\n",
       "      <td>3</td>\n",
       "      <td>1796.0</td>\n",
       "      <td>507</td>\n",
       "      <td>House: One Storey / Lowset</td>\n",
       "      <td>-33.735474</td>\n",
       "      <td>151.014229</td>\n",
       "      <td>1145000</td>\n",
       "      <td>Castle Hill Station NSW</td>\n",
       "      <td>0.769219</td>\n",
       "    </tr>\n",
       "    <tr>\n",
       "      <th>1</th>\n",
       "      <td>3 Acer Glen Castle Hill, NSW, 2154</td>\n",
       "      <td>4</td>\n",
       "      <td>2</td>\n",
       "      <td>3</td>\n",
       "      <td>888.0</td>\n",
       "      <td>4010</td>\n",
       "      <td>House: One Storey / Lowset</td>\n",
       "      <td>-33.734703</td>\n",
       "      <td>151.014184</td>\n",
       "      <td>650000</td>\n",
       "      <td>Castle Hill Station NSW</td>\n",
       "      <td>0.721314</td>\n",
       "    </tr>\n",
       "    <tr>\n",
       "      <th>2</th>\n",
       "      <td>6 Acer Glen Castle Hill, NSW, 2154</td>\n",
       "      <td>4</td>\n",
       "      <td>2</td>\n",
       "      <td>2</td>\n",
       "      <td>1516.0</td>\n",
       "      <td>1421</td>\n",
       "      <td>House</td>\n",
       "      <td>-33.735130</td>\n",
       "      <td>151.013798</td>\n",
       "      <td>1000000</td>\n",
       "      <td>Castle Hill Station NSW</td>\n",
       "      <td>0.714831</td>\n",
       "    </tr>\n",
       "    <tr>\n",
       "      <th>3</th>\n",
       "      <td>1 Adey Place Castle Hill, NSW, 2154</td>\n",
       "      <td>5</td>\n",
       "      <td>3</td>\n",
       "      <td>2</td>\n",
       "      <td>1355.0</td>\n",
       "      <td>3356</td>\n",
       "      <td>House</td>\n",
       "      <td>-33.740212</td>\n",
       "      <td>151.007908</td>\n",
       "      <td>1125000</td>\n",
       "      <td>Castle Hill Station NSW</td>\n",
       "      <td>0.956413</td>\n",
       "    </tr>\n",
       "    <tr>\n",
       "      <th>4</th>\n",
       "      <td>5 Adey Place Castle Hill, NSW, 2154</td>\n",
       "      <td>5</td>\n",
       "      <td>5</td>\n",
       "      <td>3</td>\n",
       "      <td>1088.0</td>\n",
       "      <td>5145</td>\n",
       "      <td>House: One Storey / Lowset</td>\n",
       "      <td>-33.740561</td>\n",
       "      <td>151.008181</td>\n",
       "      <td>1450000</td>\n",
       "      <td>Castle Hill Station NSW</td>\n",
       "      <td>0.996928</td>\n",
       "    </tr>\n",
       "    <tr>\n",
       "      <th>5</th>\n",
       "      <td>7 Adey Place Castle Hill, NSW, 2154</td>\n",
       "      <td>5</td>\n",
       "      <td>4</td>\n",
       "      <td>4</td>\n",
       "      <td>1057.0</td>\n",
       "      <td>904</td>\n",
       "      <td>House: One Storey / Lowset</td>\n",
       "      <td>-33.740620</td>\n",
       "      <td>151.008409</td>\n",
       "      <td>2150000</td>\n",
       "      <td>Castle Hill Station NSW</td>\n",
       "      <td>1.005271</td>\n",
       "    </tr>\n",
       "    <tr>\n",
       "      <th>6</th>\n",
       "      <td>9 Adey Place Castle Hill, NSW, 2154</td>\n",
       "      <td>6</td>\n",
       "      <td>7</td>\n",
       "      <td>2</td>\n",
       "      <td>1036.0</td>\n",
       "      <td>2045</td>\n",
       "      <td>House: One Storey / Lowset</td>\n",
       "      <td>-33.740652</td>\n",
       "      <td>151.008613</td>\n",
       "      <td>1720000</td>\n",
       "      <td>Castle Hill Station NSW</td>\n",
       "      <td>1.010922</td>\n",
       "    </tr>\n",
       "    <tr>\n",
       "      <th>7</th>\n",
       "      <td>11 Adey Place Castle Hill, NSW, 2154</td>\n",
       "      <td>6</td>\n",
       "      <td>6</td>\n",
       "      <td>3</td>\n",
       "      <td>1577.0</td>\n",
       "      <td>2755</td>\n",
       "      <td>House: One Storey / Lowset</td>\n",
       "      <td>-33.740802</td>\n",
       "      <td>151.008886</td>\n",
       "      <td>1700000</td>\n",
       "      <td>Castle Hill Station NSW</td>\n",
       "      <td>1.030710</td>\n",
       "    </tr>\n",
       "    <tr>\n",
       "      <th>8</th>\n",
       "      <td>15 Adey Place Castle Hill, NSW, 2154</td>\n",
       "      <td>6</td>\n",
       "      <td>4</td>\n",
       "      <td>3</td>\n",
       "      <td>1654.0</td>\n",
       "      <td>282</td>\n",
       "      <td>House: One Storey / Lowset</td>\n",
       "      <td>-33.740809</td>\n",
       "      <td>151.009195</td>\n",
       "      <td>3150000</td>\n",
       "      <td>Castle Hill Station NSW</td>\n",
       "      <td>1.035917</td>\n",
       "    </tr>\n",
       "    <tr>\n",
       "      <th>9</th>\n",
       "      <td>17 Adey Place Castle Hill, NSW, 2154</td>\n",
       "      <td>5</td>\n",
       "      <td>4</td>\n",
       "      <td>3</td>\n",
       "      <td>1448.0</td>\n",
       "      <td>4257</td>\n",
       "      <td>House: One Storey / Lowset</td>\n",
       "      <td>-33.740725</td>\n",
       "      <td>151.009523</td>\n",
       "      <td>1271000</td>\n",
       "      <td>Castle Hill Station NSW</td>\n",
       "      <td>1.032241</td>\n",
       "    </tr>\n",
       "    <tr>\n",
       "      <th>10</th>\n",
       "      <td>21 Adey Place Castle Hill, NSW, 2154</td>\n",
       "      <td>5</td>\n",
       "      <td>3</td>\n",
       "      <td>4</td>\n",
       "      <td>4206.0</td>\n",
       "      <td>1574</td>\n",
       "      <td>House</td>\n",
       "      <td>-33.740169</td>\n",
       "      <td>151.009773</td>\n",
       "      <td>2050000</td>\n",
       "      <td>Castle Hill Station NSW</td>\n",
       "      <td>0.976880</td>\n",
       "    </tr>\n",
       "    <tr>\n",
       "      <th>11</th>\n",
       "      <td>3 Allara Place Castle Hill, NSW, 2154</td>\n",
       "      <td>4</td>\n",
       "      <td>3</td>\n",
       "      <td>2</td>\n",
       "      <td>716.0</td>\n",
       "      <td>2613</td>\n",
       "      <td>House: One Storey / Lowset</td>\n",
       "      <td>-33.714623</td>\n",
       "      <td>151.025554</td>\n",
       "      <td>930000</td>\n",
       "      <td>Cherrybrook Station NSW</td>\n",
       "      <td>2.524494</td>\n",
       "    </tr>\n",
       "    <tr>\n",
       "      <th>12</th>\n",
       "      <td>5 Allara Place Castle Hill, NSW, 2154</td>\n",
       "      <td>4</td>\n",
       "      <td>2</td>\n",
       "      <td>2</td>\n",
       "      <td>721.0</td>\n",
       "      <td>1528</td>\n",
       "      <td>House: One Storey / Lowset</td>\n",
       "      <td>-33.714458</td>\n",
       "      <td>151.025690</td>\n",
       "      <td>1150000</td>\n",
       "      <td>Cherrybrook Station NSW</td>\n",
       "      <td>2.539421</td>\n",
       "    </tr>\n",
       "    <tr>\n",
       "      <th>13</th>\n",
       "      <td>9 Allara Place Castle Hill, NSW, 2154</td>\n",
       "      <td>5</td>\n",
       "      <td>2</td>\n",
       "      <td>2</td>\n",
       "      <td>746.0</td>\n",
       "      <td>2593</td>\n",
       "      <td>House: Two Storey / Highset</td>\n",
       "      <td>-33.714104</td>\n",
       "      <td>151.025872</td>\n",
       "      <td>1030000</td>\n",
       "      <td>Cherrybrook Station NSW</td>\n",
       "      <td>2.573953</td>\n",
       "    </tr>\n",
       "    <tr>\n",
       "      <th>14</th>\n",
       "      <td>11 Allara Place Castle Hill, NSW, 2154</td>\n",
       "      <td>4</td>\n",
       "      <td>3</td>\n",
       "      <td>3</td>\n",
       "      <td>953.0</td>\n",
       "      <td>3291</td>\n",
       "      <td>House</td>\n",
       "      <td>-33.713957</td>\n",
       "      <td>151.026236</td>\n",
       "      <td>880000</td>\n",
       "      <td>Cherrybrook Station NSW</td>\n",
       "      <td>2.582791</td>\n",
       "    </tr>\n",
       "    <tr>\n",
       "      <th>15</th>\n",
       "      <td>12 Allara Place Castle Hill, NSW, 2154</td>\n",
       "      <td>5</td>\n",
       "      <td>3</td>\n",
       "      <td>2</td>\n",
       "      <td>817.0</td>\n",
       "      <td>1264</td>\n",
       "      <td>House</td>\n",
       "      <td>-33.714359</td>\n",
       "      <td>151.026554</td>\n",
       "      <td>1482000</td>\n",
       "      <td>Cherrybrook Station NSW</td>\n",
       "      <td>2.533169</td>\n",
       "    </tr>\n",
       "    <tr>\n",
       "      <th>16</th>\n",
       "      <td>16 Allara Place Castle Hill, NSW, 2154</td>\n",
       "      <td>4</td>\n",
       "      <td>3</td>\n",
       "      <td>2</td>\n",
       "      <td>817.0</td>\n",
       "      <td>5911</td>\n",
       "      <td>House</td>\n",
       "      <td>-33.714072</td>\n",
       "      <td>151.026372</td>\n",
       "      <td>755000</td>\n",
       "      <td>Cherrybrook Station NSW</td>\n",
       "      <td>2.567728</td>\n",
       "    </tr>\n",
       "    <tr>\n",
       "      <th>17</th>\n",
       "      <td>2/2 Amberlea Court Castle Hill, NSW, 2154</td>\n",
       "      <td>3</td>\n",
       "      <td>2</td>\n",
       "      <td>2</td>\n",
       "      <td>836.0</td>\n",
       "      <td>4002</td>\n",
       "      <td>House: Semi Detached</td>\n",
       "      <td>-33.713961</td>\n",
       "      <td>151.022856</td>\n",
       "      <td>565000</td>\n",
       "      <td>Castle Hill Station NSW</td>\n",
       "      <td>2.433652</td>\n",
       "    </tr>\n",
       "    <tr>\n",
       "      <th>18</th>\n",
       "      <td>5 Amberlea Court Castle Hill, NSW, 2154</td>\n",
       "      <td>4</td>\n",
       "      <td>3</td>\n",
       "      <td>2</td>\n",
       "      <td>674.0</td>\n",
       "      <td>5700</td>\n",
       "      <td>House: Two Storey / Highset</td>\n",
       "      <td>-33.714543</td>\n",
       "      <td>151.023052</td>\n",
       "      <td>698000</td>\n",
       "      <td>Castle Hill Station NSW</td>\n",
       "      <td>2.392754</td>\n",
       "    </tr>\n",
       "    <tr>\n",
       "      <th>19</th>\n",
       "      <td>6 Amberlea Court Castle Hill, NSW, 2154</td>\n",
       "      <td>4</td>\n",
       "      <td>3</td>\n",
       "      <td>2</td>\n",
       "      <td>780.0</td>\n",
       "      <td>2404</td>\n",
       "      <td>House: One Storey / Lowset</td>\n",
       "      <td>-33.714333</td>\n",
       "      <td>151.022620</td>\n",
       "      <td>1230000</td>\n",
       "      <td>Castle Hill Station NSW</td>\n",
       "      <td>2.387466</td>\n",
       "    </tr>\n",
       "    <tr>\n",
       "      <th>20</th>\n",
       "      <td>7 Amberlea Court Castle Hill, NSW, 2154</td>\n",
       "      <td>4</td>\n",
       "      <td>3</td>\n",
       "      <td>2</td>\n",
       "      <td>672.0</td>\n",
       "      <td>3180</td>\n",
       "      <td>House: One Storey / Lowset</td>\n",
       "      <td>-33.714680</td>\n",
       "      <td>151.022961</td>\n",
       "      <td>820000</td>\n",
       "      <td>Castle Hill Station NSW</td>\n",
       "      <td>2.375570</td>\n",
       "    </tr>\n",
       "    <tr>\n",
       "      <th>21</th>\n",
       "      <td>9 Amberlea Court Castle Hill, NSW, 2154</td>\n",
       "      <td>4</td>\n",
       "      <td>2</td>\n",
       "      <td>2</td>\n",
       "      <td>671.0</td>\n",
       "      <td>1270</td>\n",
       "      <td>House: One Storey / Lowset</td>\n",
       "      <td>-33.714816</td>\n",
       "      <td>151.022870</td>\n",
       "      <td>1455000</td>\n",
       "      <td>Castle Hill Station NSW</td>\n",
       "      <td>2.358398</td>\n",
       "    </tr>\n",
       "    <tr>\n",
       "      <th>22</th>\n",
       "      <td>11 Amberlea Court Castle Hill, NSW, 2154</td>\n",
       "      <td>4</td>\n",
       "      <td>2</td>\n",
       "      <td>2</td>\n",
       "      <td>711.0</td>\n",
       "      <td>5344</td>\n",
       "      <td>House</td>\n",
       "      <td>-33.714970</td>\n",
       "      <td>151.022688</td>\n",
       "      <td>560000</td>\n",
       "      <td>Castle Hill Station NSW</td>\n",
       "      <td>2.334613</td>\n",
       "    </tr>\n",
       "    <tr>\n",
       "      <th>23</th>\n",
       "      <td>12 Amberlea Court Castle Hill, NSW, 2154</td>\n",
       "      <td>5</td>\n",
       "      <td>3</td>\n",
       "      <td>2</td>\n",
       "      <td>798.0</td>\n",
       "      <td>180</td>\n",
       "      <td>House</td>\n",
       "      <td>-33.714802</td>\n",
       "      <td>151.022188</td>\n",
       "      <td>1760000</td>\n",
       "      <td>Castle Hill Station NSW</td>\n",
       "      <td>2.321748</td>\n",
       "    </tr>\n",
       "    <tr>\n",
       "      <th>24</th>\n",
       "      <td>16 Amberlea Court Castle Hill, NSW, 2154</td>\n",
       "      <td>5</td>\n",
       "      <td>3</td>\n",
       "      <td>2</td>\n",
       "      <td>689.0</td>\n",
       "      <td>2825</td>\n",
       "      <td>House</td>\n",
       "      <td>-33.715110</td>\n",
       "      <td>151.022143</td>\n",
       "      <td>878500</td>\n",
       "      <td>Castle Hill Station NSW</td>\n",
       "      <td>2.291710</td>\n",
       "    </tr>\n",
       "    <tr>\n",
       "      <th>25</th>\n",
       "      <td>17 Amberlea Court Castle Hill, NSW, 2154</td>\n",
       "      <td>4</td>\n",
       "      <td>2</td>\n",
       "      <td>2</td>\n",
       "      <td>559.0</td>\n",
       "      <td>2874</td>\n",
       "      <td>House: One Storey / Lowset</td>\n",
       "      <td>-33.715159</td>\n",
       "      <td>151.022961</td>\n",
       "      <td>742000</td>\n",
       "      <td>Castle Hill Station NSW</td>\n",
       "      <td>2.333478</td>\n",
       "    </tr>\n",
       "    <tr>\n",
       "      <th>26</th>\n",
       "      <td>21 Amberlea Court Castle Hill, NSW, 2154</td>\n",
       "      <td>5</td>\n",
       "      <td>2</td>\n",
       "      <td>2</td>\n",
       "      <td>554.0</td>\n",
       "      <td>2431</td>\n",
       "      <td>House: Two Storey / Highset</td>\n",
       "      <td>-33.715549</td>\n",
       "      <td>151.022882</td>\n",
       "      <td>835000</td>\n",
       "      <td>Castle Hill Station NSW</td>\n",
       "      <td>2.295027</td>\n",
       "    </tr>\n",
       "    <tr>\n",
       "      <th>27</th>\n",
       "      <td>23 Amberlea Court Castle Hill, NSW, 2154</td>\n",
       "      <td>4</td>\n",
       "      <td>2</td>\n",
       "      <td>2</td>\n",
       "      <td>482.0</td>\n",
       "      <td>1562</td>\n",
       "      <td>House: One Storey / Lowset</td>\n",
       "      <td>-33.715461</td>\n",
       "      <td>151.022734</td>\n",
       "      <td>1155000</td>\n",
       "      <td>Castle Hill Station NSW</td>\n",
       "      <td>2.294120</td>\n",
       "    </tr>\n",
       "    <tr>\n",
       "      <th>28</th>\n",
       "      <td>27 Amberlea Court Castle Hill, NSW, 2154</td>\n",
       "      <td>4</td>\n",
       "      <td>2</td>\n",
       "      <td>2</td>\n",
       "      <td>810.0</td>\n",
       "      <td>1653</td>\n",
       "      <td>House: One Storey / Lowset</td>\n",
       "      <td>-33.715311</td>\n",
       "      <td>151.022461</td>\n",
       "      <td>1268000</td>\n",
       "      <td>Castle Hill Station NSW</td>\n",
       "      <td>2.291684</td>\n",
       "    </tr>\n",
       "    <tr>\n",
       "      <th>29</th>\n",
       "      <td>3 Amberwood Place Castle Hill, NSW, 2154</td>\n",
       "      <td>5</td>\n",
       "      <td>3</td>\n",
       "      <td>3</td>\n",
       "      <td>895.0</td>\n",
       "      <td>131</td>\n",
       "      <td>House</td>\n",
       "      <td>-33.737317</td>\n",
       "      <td>151.018777</td>\n",
       "      <td>1850000</td>\n",
       "      <td>Cherrybrook Station NSW</td>\n",
       "      <td>1.220852</td>\n",
       "    </tr>\n",
       "    <tr>\n",
       "      <th>...</th>\n",
       "      <td>...</td>\n",
       "      <td>...</td>\n",
       "      <td>...</td>\n",
       "      <td>...</td>\n",
       "      <td>...</td>\n",
       "      <td>...</td>\n",
       "      <td>...</td>\n",
       "      <td>...</td>\n",
       "      <td>...</td>\n",
       "      <td>...</td>\n",
       "      <td>...</td>\n",
       "      <td>...</td>\n",
       "    </tr>\n",
       "    <tr>\n",
       "      <th>5211</th>\n",
       "      <td>18 Cambewarra Avenue Castle Hill, NSW, 2154</td>\n",
       "      <td>3</td>\n",
       "      <td>2</td>\n",
       "      <td>2</td>\n",
       "      <td>696.0</td>\n",
       "      <td>3062</td>\n",
       "      <td>House: One Storey / Lowset</td>\n",
       "      <td>-33.742499</td>\n",
       "      <td>151.001542</td>\n",
       "      <td>645000</td>\n",
       "      <td>Castle Hill Station NSW</td>\n",
       "      <td>1.321890</td>\n",
       "    </tr>\n",
       "    <tr>\n",
       "      <th>5212</th>\n",
       "      <td>18 Cambewarra Avenue Castle Hill, NSW, 2154</td>\n",
       "      <td>3</td>\n",
       "      <td>2</td>\n",
       "      <td>2</td>\n",
       "      <td>696.0</td>\n",
       "      <td>3062</td>\n",
       "      <td>House: One Storey / Lowset</td>\n",
       "      <td>-33.742499</td>\n",
       "      <td>151.001542</td>\n",
       "      <td>645000</td>\n",
       "      <td>Castle Hill Station NSW</td>\n",
       "      <td>1.321890</td>\n",
       "    </tr>\n",
       "    <tr>\n",
       "      <th>5213</th>\n",
       "      <td>18 Cambewarra Avenue Castle Hill, NSW, 2154</td>\n",
       "      <td>3</td>\n",
       "      <td>2</td>\n",
       "      <td>2</td>\n",
       "      <td>696.0</td>\n",
       "      <td>3062</td>\n",
       "      <td>House: One Storey / Lowset</td>\n",
       "      <td>-33.742499</td>\n",
       "      <td>151.001542</td>\n",
       "      <td>645000</td>\n",
       "      <td>Castle Hill Station NSW</td>\n",
       "      <td>1.321890</td>\n",
       "    </tr>\n",
       "    <tr>\n",
       "      <th>5214</th>\n",
       "      <td>18 Cambewarra Avenue Castle Hill, NSW, 2154</td>\n",
       "      <td>3</td>\n",
       "      <td>2</td>\n",
       "      <td>2</td>\n",
       "      <td>696.0</td>\n",
       "      <td>3062</td>\n",
       "      <td>House: One Storey / Lowset</td>\n",
       "      <td>-33.742499</td>\n",
       "      <td>151.001542</td>\n",
       "      <td>645000</td>\n",
       "      <td>Castle Hill Station NSW</td>\n",
       "      <td>1.321890</td>\n",
       "    </tr>\n",
       "    <tr>\n",
       "      <th>5215</th>\n",
       "      <td>18 Cambewarra Avenue Castle Hill, NSW, 2154</td>\n",
       "      <td>3</td>\n",
       "      <td>2</td>\n",
       "      <td>2</td>\n",
       "      <td>696.0</td>\n",
       "      <td>3062</td>\n",
       "      <td>House: One Storey / Lowset</td>\n",
       "      <td>-33.742499</td>\n",
       "      <td>151.001542</td>\n",
       "      <td>645000</td>\n",
       "      <td>Castle Hill Station NSW</td>\n",
       "      <td>1.321890</td>\n",
       "    </tr>\n",
       "    <tr>\n",
       "      <th>5216</th>\n",
       "      <td>18 Cambewarra Avenue Castle Hill, NSW, 2154</td>\n",
       "      <td>3</td>\n",
       "      <td>2</td>\n",
       "      <td>2</td>\n",
       "      <td>696.0</td>\n",
       "      <td>3062</td>\n",
       "      <td>House: One Storey / Lowset</td>\n",
       "      <td>-33.742499</td>\n",
       "      <td>151.001542</td>\n",
       "      <td>645000</td>\n",
       "      <td>Castle Hill Station NSW</td>\n",
       "      <td>1.321890</td>\n",
       "    </tr>\n",
       "    <tr>\n",
       "      <th>5217</th>\n",
       "      <td>18 Cambewarra Avenue Castle Hill, NSW, 2154</td>\n",
       "      <td>3</td>\n",
       "      <td>2</td>\n",
       "      <td>2</td>\n",
       "      <td>696.0</td>\n",
       "      <td>3062</td>\n",
       "      <td>House: One Storey / Lowset</td>\n",
       "      <td>-33.742499</td>\n",
       "      <td>151.001542</td>\n",
       "      <td>645000</td>\n",
       "      <td>Castle Hill Station NSW</td>\n",
       "      <td>1.321890</td>\n",
       "    </tr>\n",
       "    <tr>\n",
       "      <th>5218</th>\n",
       "      <td>18 Cambewarra Avenue Castle Hill, NSW, 2154</td>\n",
       "      <td>3</td>\n",
       "      <td>2</td>\n",
       "      <td>2</td>\n",
       "      <td>696.0</td>\n",
       "      <td>3062</td>\n",
       "      <td>House: One Storey / Lowset</td>\n",
       "      <td>-33.742499</td>\n",
       "      <td>151.001542</td>\n",
       "      <td>645000</td>\n",
       "      <td>Castle Hill Station NSW</td>\n",
       "      <td>1.321890</td>\n",
       "    </tr>\n",
       "    <tr>\n",
       "      <th>5219</th>\n",
       "      <td>18 Cambewarra Avenue Castle Hill, NSW, 2154</td>\n",
       "      <td>3</td>\n",
       "      <td>2</td>\n",
       "      <td>2</td>\n",
       "      <td>696.0</td>\n",
       "      <td>3062</td>\n",
       "      <td>House: One Storey / Lowset</td>\n",
       "      <td>-33.742499</td>\n",
       "      <td>151.001542</td>\n",
       "      <td>645000</td>\n",
       "      <td>Castle Hill Station NSW</td>\n",
       "      <td>1.321890</td>\n",
       "    </tr>\n",
       "    <tr>\n",
       "      <th>5220</th>\n",
       "      <td>18 Cambewarra Avenue Castle Hill, NSW, 2154</td>\n",
       "      <td>3</td>\n",
       "      <td>2</td>\n",
       "      <td>2</td>\n",
       "      <td>696.0</td>\n",
       "      <td>3062</td>\n",
       "      <td>House: One Storey / Lowset</td>\n",
       "      <td>-33.742499</td>\n",
       "      <td>151.001542</td>\n",
       "      <td>645000</td>\n",
       "      <td>Castle Hill Station NSW</td>\n",
       "      <td>1.321890</td>\n",
       "    </tr>\n",
       "    <tr>\n",
       "      <th>5221</th>\n",
       "      <td>18 Cambewarra Avenue Castle Hill, NSW, 2154</td>\n",
       "      <td>3</td>\n",
       "      <td>2</td>\n",
       "      <td>2</td>\n",
       "      <td>696.0</td>\n",
       "      <td>3062</td>\n",
       "      <td>House: One Storey / Lowset</td>\n",
       "      <td>-33.742499</td>\n",
       "      <td>151.001542</td>\n",
       "      <td>645000</td>\n",
       "      <td>Castle Hill Station NSW</td>\n",
       "      <td>1.321890</td>\n",
       "    </tr>\n",
       "    <tr>\n",
       "      <th>5222</th>\n",
       "      <td>18 Cambewarra Avenue Castle Hill, NSW, 2154</td>\n",
       "      <td>3</td>\n",
       "      <td>2</td>\n",
       "      <td>2</td>\n",
       "      <td>696.0</td>\n",
       "      <td>3062</td>\n",
       "      <td>House: One Storey / Lowset</td>\n",
       "      <td>-33.742499</td>\n",
       "      <td>151.001542</td>\n",
       "      <td>645000</td>\n",
       "      <td>Castle Hill Station NSW</td>\n",
       "      <td>1.321890</td>\n",
       "    </tr>\n",
       "    <tr>\n",
       "      <th>5223</th>\n",
       "      <td>18 Cambewarra Avenue Castle Hill, NSW, 2154</td>\n",
       "      <td>3</td>\n",
       "      <td>2</td>\n",
       "      <td>2</td>\n",
       "      <td>696.0</td>\n",
       "      <td>3062</td>\n",
       "      <td>House: One Storey / Lowset</td>\n",
       "      <td>-33.742499</td>\n",
       "      <td>151.001542</td>\n",
       "      <td>645000</td>\n",
       "      <td>Castle Hill Station NSW</td>\n",
       "      <td>1.321890</td>\n",
       "    </tr>\n",
       "    <tr>\n",
       "      <th>5224</th>\n",
       "      <td>18 Cambewarra Avenue Castle Hill, NSW, 2154</td>\n",
       "      <td>3</td>\n",
       "      <td>2</td>\n",
       "      <td>2</td>\n",
       "      <td>696.0</td>\n",
       "      <td>3062</td>\n",
       "      <td>House: One Storey / Lowset</td>\n",
       "      <td>-33.742499</td>\n",
       "      <td>151.001542</td>\n",
       "      <td>645000</td>\n",
       "      <td>Castle Hill Station NSW</td>\n",
       "      <td>1.321890</td>\n",
       "    </tr>\n",
       "    <tr>\n",
       "      <th>5225</th>\n",
       "      <td>18 Cambewarra Avenue Castle Hill, NSW, 2154</td>\n",
       "      <td>3</td>\n",
       "      <td>2</td>\n",
       "      <td>2</td>\n",
       "      <td>696.0</td>\n",
       "      <td>3062</td>\n",
       "      <td>House: One Storey / Lowset</td>\n",
       "      <td>-33.742499</td>\n",
       "      <td>151.001542</td>\n",
       "      <td>645000</td>\n",
       "      <td>Castle Hill Station NSW</td>\n",
       "      <td>1.321890</td>\n",
       "    </tr>\n",
       "    <tr>\n",
       "      <th>5226</th>\n",
       "      <td>18 Cambewarra Avenue Castle Hill, NSW, 2154</td>\n",
       "      <td>3</td>\n",
       "      <td>2</td>\n",
       "      <td>2</td>\n",
       "      <td>696.0</td>\n",
       "      <td>3062</td>\n",
       "      <td>House: One Storey / Lowset</td>\n",
       "      <td>-33.742499</td>\n",
       "      <td>151.001542</td>\n",
       "      <td>645000</td>\n",
       "      <td>Castle Hill Station NSW</td>\n",
       "      <td>1.321890</td>\n",
       "    </tr>\n",
       "    <tr>\n",
       "      <th>5227</th>\n",
       "      <td>18 Cambewarra Avenue Castle Hill, NSW, 2154</td>\n",
       "      <td>3</td>\n",
       "      <td>2</td>\n",
       "      <td>2</td>\n",
       "      <td>696.0</td>\n",
       "      <td>3062</td>\n",
       "      <td>House: One Storey / Lowset</td>\n",
       "      <td>-33.742499</td>\n",
       "      <td>151.001542</td>\n",
       "      <td>645000</td>\n",
       "      <td>Castle Hill Station NSW</td>\n",
       "      <td>1.321890</td>\n",
       "    </tr>\n",
       "    <tr>\n",
       "      <th>5228</th>\n",
       "      <td>18 Cambewarra Avenue Castle Hill, NSW, 2154</td>\n",
       "      <td>3</td>\n",
       "      <td>2</td>\n",
       "      <td>2</td>\n",
       "      <td>696.0</td>\n",
       "      <td>3062</td>\n",
       "      <td>House: One Storey / Lowset</td>\n",
       "      <td>-33.742499</td>\n",
       "      <td>151.001542</td>\n",
       "      <td>645000</td>\n",
       "      <td>Castle Hill Station NSW</td>\n",
       "      <td>1.321890</td>\n",
       "    </tr>\n",
       "    <tr>\n",
       "      <th>5229</th>\n",
       "      <td>18 Cambewarra Avenue Castle Hill, NSW, 2154</td>\n",
       "      <td>3</td>\n",
       "      <td>2</td>\n",
       "      <td>2</td>\n",
       "      <td>696.0</td>\n",
       "      <td>3062</td>\n",
       "      <td>House: One Storey / Lowset</td>\n",
       "      <td>-33.742499</td>\n",
       "      <td>151.001542</td>\n",
       "      <td>645000</td>\n",
       "      <td>Castle Hill Station NSW</td>\n",
       "      <td>1.321890</td>\n",
       "    </tr>\n",
       "    <tr>\n",
       "      <th>5230</th>\n",
       "      <td>18 Cambewarra Avenue Castle Hill, NSW, 2154</td>\n",
       "      <td>3</td>\n",
       "      <td>2</td>\n",
       "      <td>2</td>\n",
       "      <td>696.0</td>\n",
       "      <td>3062</td>\n",
       "      <td>House: One Storey / Lowset</td>\n",
       "      <td>-33.742499</td>\n",
       "      <td>151.001542</td>\n",
       "      <td>645000</td>\n",
       "      <td>Castle Hill Station NSW</td>\n",
       "      <td>1.321890</td>\n",
       "    </tr>\n",
       "    <tr>\n",
       "      <th>5231</th>\n",
       "      <td>18 Cambewarra Avenue Castle Hill, NSW, 2154</td>\n",
       "      <td>3</td>\n",
       "      <td>2</td>\n",
       "      <td>2</td>\n",
       "      <td>696.0</td>\n",
       "      <td>3062</td>\n",
       "      <td>House: One Storey / Lowset</td>\n",
       "      <td>-33.742499</td>\n",
       "      <td>151.001542</td>\n",
       "      <td>645000</td>\n",
       "      <td>Castle Hill Station NSW</td>\n",
       "      <td>1.321890</td>\n",
       "    </tr>\n",
       "    <tr>\n",
       "      <th>5232</th>\n",
       "      <td>18 Cambewarra Avenue Castle Hill, NSW, 2154</td>\n",
       "      <td>3</td>\n",
       "      <td>2</td>\n",
       "      <td>2</td>\n",
       "      <td>696.0</td>\n",
       "      <td>3062</td>\n",
       "      <td>House: One Storey / Lowset</td>\n",
       "      <td>-33.742499</td>\n",
       "      <td>151.001542</td>\n",
       "      <td>645000</td>\n",
       "      <td>Castle Hill Station NSW</td>\n",
       "      <td>1.321890</td>\n",
       "    </tr>\n",
       "    <tr>\n",
       "      <th>5233</th>\n",
       "      <td>18 Cambewarra Avenue Castle Hill, NSW, 2154</td>\n",
       "      <td>3</td>\n",
       "      <td>2</td>\n",
       "      <td>2</td>\n",
       "      <td>696.0</td>\n",
       "      <td>3062</td>\n",
       "      <td>House: One Storey / Lowset</td>\n",
       "      <td>-33.742499</td>\n",
       "      <td>151.001542</td>\n",
       "      <td>645000</td>\n",
       "      <td>Castle Hill Station NSW</td>\n",
       "      <td>1.321890</td>\n",
       "    </tr>\n",
       "    <tr>\n",
       "      <th>5234</th>\n",
       "      <td>18 Cambewarra Avenue Castle Hill, NSW, 2154</td>\n",
       "      <td>3</td>\n",
       "      <td>2</td>\n",
       "      <td>2</td>\n",
       "      <td>696.0</td>\n",
       "      <td>3062</td>\n",
       "      <td>House: One Storey / Lowset</td>\n",
       "      <td>-33.742499</td>\n",
       "      <td>151.001542</td>\n",
       "      <td>645000</td>\n",
       "      <td>Castle Hill Station NSW</td>\n",
       "      <td>1.321890</td>\n",
       "    </tr>\n",
       "    <tr>\n",
       "      <th>5235</th>\n",
       "      <td>18 Cambewarra Avenue Castle Hill, NSW, 2154</td>\n",
       "      <td>3</td>\n",
       "      <td>2</td>\n",
       "      <td>2</td>\n",
       "      <td>696.0</td>\n",
       "      <td>3062</td>\n",
       "      <td>House: One Storey / Lowset</td>\n",
       "      <td>-33.742499</td>\n",
       "      <td>151.001542</td>\n",
       "      <td>645000</td>\n",
       "      <td>Castle Hill Station NSW</td>\n",
       "      <td>1.321890</td>\n",
       "    </tr>\n",
       "    <tr>\n",
       "      <th>5236</th>\n",
       "      <td>18 Cambewarra Avenue Castle Hill, NSW, 2154</td>\n",
       "      <td>3</td>\n",
       "      <td>2</td>\n",
       "      <td>2</td>\n",
       "      <td>696.0</td>\n",
       "      <td>3062</td>\n",
       "      <td>House: One Storey / Lowset</td>\n",
       "      <td>-33.742499</td>\n",
       "      <td>151.001542</td>\n",
       "      <td>645000</td>\n",
       "      <td>Castle Hill Station NSW</td>\n",
       "      <td>1.321890</td>\n",
       "    </tr>\n",
       "    <tr>\n",
       "      <th>5237</th>\n",
       "      <td>18 Cambewarra Avenue Castle Hill, NSW, 2154</td>\n",
       "      <td>3</td>\n",
       "      <td>2</td>\n",
       "      <td>2</td>\n",
       "      <td>696.0</td>\n",
       "      <td>3062</td>\n",
       "      <td>House: One Storey / Lowset</td>\n",
       "      <td>-33.742499</td>\n",
       "      <td>151.001542</td>\n",
       "      <td>645000</td>\n",
       "      <td>Castle Hill Station NSW</td>\n",
       "      <td>1.321890</td>\n",
       "    </tr>\n",
       "    <tr>\n",
       "      <th>5238</th>\n",
       "      <td>18 Cambewarra Avenue Castle Hill, NSW, 2154</td>\n",
       "      <td>3</td>\n",
       "      <td>2</td>\n",
       "      <td>2</td>\n",
       "      <td>696.0</td>\n",
       "      <td>3062</td>\n",
       "      <td>House: One Storey / Lowset</td>\n",
       "      <td>-33.742499</td>\n",
       "      <td>151.001542</td>\n",
       "      <td>645000</td>\n",
       "      <td>Castle Hill Station NSW</td>\n",
       "      <td>1.321890</td>\n",
       "    </tr>\n",
       "    <tr>\n",
       "      <th>5239</th>\n",
       "      <td>18 Cambewarra Avenue Castle Hill, NSW, 2154</td>\n",
       "      <td>3</td>\n",
       "      <td>2</td>\n",
       "      <td>2</td>\n",
       "      <td>696.0</td>\n",
       "      <td>3062</td>\n",
       "      <td>House: One Storey / Lowset</td>\n",
       "      <td>-33.742499</td>\n",
       "      <td>151.001542</td>\n",
       "      <td>645000</td>\n",
       "      <td>Castle Hill Station NSW</td>\n",
       "      <td>1.321890</td>\n",
       "    </tr>\n",
       "    <tr>\n",
       "      <th>5240</th>\n",
       "      <td>18 Cambewarra Avenue Castle Hill, NSW, 2154</td>\n",
       "      <td>3</td>\n",
       "      <td>2</td>\n",
       "      <td>2</td>\n",
       "      <td>696.0</td>\n",
       "      <td>3062</td>\n",
       "      <td>House: One Storey / Lowset</td>\n",
       "      <td>-33.742499</td>\n",
       "      <td>151.001542</td>\n",
       "      <td>645000</td>\n",
       "      <td>Castle Hill Station NSW</td>\n",
       "      <td>1.321890</td>\n",
       "    </tr>\n",
       "  </tbody>\n",
       "</table>\n",
       "<p>5241 rows × 12 columns</p>\n",
       "</div>"
      ],
      "text/plain": [
       "                                          Address  Beds  Baths  Cars    Area  \\\n",
       "0              2 Acer Glen Castle Hill, NSW, 2154     5      3     3  1796.0   \n",
       "1              3 Acer Glen Castle Hill, NSW, 2154     4      2     3   888.0   \n",
       "2              6 Acer Glen Castle Hill, NSW, 2154     4      2     2  1516.0   \n",
       "3             1 Adey Place Castle Hill, NSW, 2154     5      3     2  1355.0   \n",
       "4             5 Adey Place Castle Hill, NSW, 2154     5      5     3  1088.0   \n",
       "5             7 Adey Place Castle Hill, NSW, 2154     5      4     4  1057.0   \n",
       "6             9 Adey Place Castle Hill, NSW, 2154     6      7     2  1036.0   \n",
       "7            11 Adey Place Castle Hill, NSW, 2154     6      6     3  1577.0   \n",
       "8            15 Adey Place Castle Hill, NSW, 2154     6      4     3  1654.0   \n",
       "9            17 Adey Place Castle Hill, NSW, 2154     5      4     3  1448.0   \n",
       "10           21 Adey Place Castle Hill, NSW, 2154     5      3     4  4206.0   \n",
       "11          3 Allara Place Castle Hill, NSW, 2154     4      3     2   716.0   \n",
       "12          5 Allara Place Castle Hill, NSW, 2154     4      2     2   721.0   \n",
       "13          9 Allara Place Castle Hill, NSW, 2154     5      2     2   746.0   \n",
       "14         11 Allara Place Castle Hill, NSW, 2154     4      3     3   953.0   \n",
       "15         12 Allara Place Castle Hill, NSW, 2154     5      3     2   817.0   \n",
       "16         16 Allara Place Castle Hill, NSW, 2154     4      3     2   817.0   \n",
       "17      2/2 Amberlea Court Castle Hill, NSW, 2154     3      2     2   836.0   \n",
       "18        5 Amberlea Court Castle Hill, NSW, 2154     4      3     2   674.0   \n",
       "19        6 Amberlea Court Castle Hill, NSW, 2154     4      3     2   780.0   \n",
       "20        7 Amberlea Court Castle Hill, NSW, 2154     4      3     2   672.0   \n",
       "21        9 Amberlea Court Castle Hill, NSW, 2154     4      2     2   671.0   \n",
       "22       11 Amberlea Court Castle Hill, NSW, 2154     4      2     2   711.0   \n",
       "23       12 Amberlea Court Castle Hill, NSW, 2154     5      3     2   798.0   \n",
       "24       16 Amberlea Court Castle Hill, NSW, 2154     5      3     2   689.0   \n",
       "25       17 Amberlea Court Castle Hill, NSW, 2154     4      2     2   559.0   \n",
       "26       21 Amberlea Court Castle Hill, NSW, 2154     5      2     2   554.0   \n",
       "27       23 Amberlea Court Castle Hill, NSW, 2154     4      2     2   482.0   \n",
       "28       27 Amberlea Court Castle Hill, NSW, 2154     4      2     2   810.0   \n",
       "29       3 Amberwood Place Castle Hill, NSW, 2154     5      3     3   895.0   \n",
       "...                                           ...   ...    ...   ...     ...   \n",
       "5211  18 Cambewarra Avenue Castle Hill, NSW, 2154     3      2     2   696.0   \n",
       "5212  18 Cambewarra Avenue Castle Hill, NSW, 2154     3      2     2   696.0   \n",
       "5213  18 Cambewarra Avenue Castle Hill, NSW, 2154     3      2     2   696.0   \n",
       "5214  18 Cambewarra Avenue Castle Hill, NSW, 2154     3      2     2   696.0   \n",
       "5215  18 Cambewarra Avenue Castle Hill, NSW, 2154     3      2     2   696.0   \n",
       "5216  18 Cambewarra Avenue Castle Hill, NSW, 2154     3      2     2   696.0   \n",
       "5217  18 Cambewarra Avenue Castle Hill, NSW, 2154     3      2     2   696.0   \n",
       "5218  18 Cambewarra Avenue Castle Hill, NSW, 2154     3      2     2   696.0   \n",
       "5219  18 Cambewarra Avenue Castle Hill, NSW, 2154     3      2     2   696.0   \n",
       "5220  18 Cambewarra Avenue Castle Hill, NSW, 2154     3      2     2   696.0   \n",
       "5221  18 Cambewarra Avenue Castle Hill, NSW, 2154     3      2     2   696.0   \n",
       "5222  18 Cambewarra Avenue Castle Hill, NSW, 2154     3      2     2   696.0   \n",
       "5223  18 Cambewarra Avenue Castle Hill, NSW, 2154     3      2     2   696.0   \n",
       "5224  18 Cambewarra Avenue Castle Hill, NSW, 2154     3      2     2   696.0   \n",
       "5225  18 Cambewarra Avenue Castle Hill, NSW, 2154     3      2     2   696.0   \n",
       "5226  18 Cambewarra Avenue Castle Hill, NSW, 2154     3      2     2   696.0   \n",
       "5227  18 Cambewarra Avenue Castle Hill, NSW, 2154     3      2     2   696.0   \n",
       "5228  18 Cambewarra Avenue Castle Hill, NSW, 2154     3      2     2   696.0   \n",
       "5229  18 Cambewarra Avenue Castle Hill, NSW, 2154     3      2     2   696.0   \n",
       "5230  18 Cambewarra Avenue Castle Hill, NSW, 2154     3      2     2   696.0   \n",
       "5231  18 Cambewarra Avenue Castle Hill, NSW, 2154     3      2     2   696.0   \n",
       "5232  18 Cambewarra Avenue Castle Hill, NSW, 2154     3      2     2   696.0   \n",
       "5233  18 Cambewarra Avenue Castle Hill, NSW, 2154     3      2     2   696.0   \n",
       "5234  18 Cambewarra Avenue Castle Hill, NSW, 2154     3      2     2   696.0   \n",
       "5235  18 Cambewarra Avenue Castle Hill, NSW, 2154     3      2     2   696.0   \n",
       "5236  18 Cambewarra Avenue Castle Hill, NSW, 2154     3      2     2   696.0   \n",
       "5237  18 Cambewarra Avenue Castle Hill, NSW, 2154     3      2     2   696.0   \n",
       "5238  18 Cambewarra Avenue Castle Hill, NSW, 2154     3      2     2   696.0   \n",
       "5239  18 Cambewarra Avenue Castle Hill, NSW, 2154     3      2     2   696.0   \n",
       "5240  18 Cambewarra Avenue Castle Hill, NSW, 2154     3      2     2   696.0   \n",
       "\n",
       "      Date                        Ptype   Latitude   Longitude    Price  \\\n",
       "0      507   House: One Storey / Lowset -33.735474  151.014229  1145000   \n",
       "1     4010   House: One Storey / Lowset -33.734703  151.014184   650000   \n",
       "2     1421                        House -33.735130  151.013798  1000000   \n",
       "3     3356                        House -33.740212  151.007908  1125000   \n",
       "4     5145   House: One Storey / Lowset -33.740561  151.008181  1450000   \n",
       "5      904   House: One Storey / Lowset -33.740620  151.008409  2150000   \n",
       "6     2045   House: One Storey / Lowset -33.740652  151.008613  1720000   \n",
       "7     2755   House: One Storey / Lowset -33.740802  151.008886  1700000   \n",
       "8      282   House: One Storey / Lowset -33.740809  151.009195  3150000   \n",
       "9     4257   House: One Storey / Lowset -33.740725  151.009523  1271000   \n",
       "10    1574                        House -33.740169  151.009773  2050000   \n",
       "11    2613   House: One Storey / Lowset -33.714623  151.025554   930000   \n",
       "12    1528   House: One Storey / Lowset -33.714458  151.025690  1150000   \n",
       "13    2593  House: Two Storey / Highset -33.714104  151.025872  1030000   \n",
       "14    3291                        House -33.713957  151.026236   880000   \n",
       "15    1264                        House -33.714359  151.026554  1482000   \n",
       "16    5911                        House -33.714072  151.026372   755000   \n",
       "17    4002         House: Semi Detached -33.713961  151.022856   565000   \n",
       "18    5700  House: Two Storey / Highset -33.714543  151.023052   698000   \n",
       "19    2404   House: One Storey / Lowset -33.714333  151.022620  1230000   \n",
       "20    3180   House: One Storey / Lowset -33.714680  151.022961   820000   \n",
       "21    1270   House: One Storey / Lowset -33.714816  151.022870  1455000   \n",
       "22    5344                        House -33.714970  151.022688   560000   \n",
       "23     180                        House -33.714802  151.022188  1760000   \n",
       "24    2825                        House -33.715110  151.022143   878500   \n",
       "25    2874   House: One Storey / Lowset -33.715159  151.022961   742000   \n",
       "26    2431  House: Two Storey / Highset -33.715549  151.022882   835000   \n",
       "27    1562   House: One Storey / Lowset -33.715461  151.022734  1155000   \n",
       "28    1653   House: One Storey / Lowset -33.715311  151.022461  1268000   \n",
       "29     131                        House -33.737317  151.018777  1850000   \n",
       "...    ...                          ...        ...         ...      ...   \n",
       "5211  3062   House: One Storey / Lowset -33.742499  151.001542   645000   \n",
       "5212  3062   House: One Storey / Lowset -33.742499  151.001542   645000   \n",
       "5213  3062   House: One Storey / Lowset -33.742499  151.001542   645000   \n",
       "5214  3062   House: One Storey / Lowset -33.742499  151.001542   645000   \n",
       "5215  3062   House: One Storey / Lowset -33.742499  151.001542   645000   \n",
       "5216  3062   House: One Storey / Lowset -33.742499  151.001542   645000   \n",
       "5217  3062   House: One Storey / Lowset -33.742499  151.001542   645000   \n",
       "5218  3062   House: One Storey / Lowset -33.742499  151.001542   645000   \n",
       "5219  3062   House: One Storey / Lowset -33.742499  151.001542   645000   \n",
       "5220  3062   House: One Storey / Lowset -33.742499  151.001542   645000   \n",
       "5221  3062   House: One Storey / Lowset -33.742499  151.001542   645000   \n",
       "5222  3062   House: One Storey / Lowset -33.742499  151.001542   645000   \n",
       "5223  3062   House: One Storey / Lowset -33.742499  151.001542   645000   \n",
       "5224  3062   House: One Storey / Lowset -33.742499  151.001542   645000   \n",
       "5225  3062   House: One Storey / Lowset -33.742499  151.001542   645000   \n",
       "5226  3062   House: One Storey / Lowset -33.742499  151.001542   645000   \n",
       "5227  3062   House: One Storey / Lowset -33.742499  151.001542   645000   \n",
       "5228  3062   House: One Storey / Lowset -33.742499  151.001542   645000   \n",
       "5229  3062   House: One Storey / Lowset -33.742499  151.001542   645000   \n",
       "5230  3062   House: One Storey / Lowset -33.742499  151.001542   645000   \n",
       "5231  3062   House: One Storey / Lowset -33.742499  151.001542   645000   \n",
       "5232  3062   House: One Storey / Lowset -33.742499  151.001542   645000   \n",
       "5233  3062   House: One Storey / Lowset -33.742499  151.001542   645000   \n",
       "5234  3062   House: One Storey / Lowset -33.742499  151.001542   645000   \n",
       "5235  3062   House: One Storey / Lowset -33.742499  151.001542   645000   \n",
       "5236  3062   House: One Storey / Lowset -33.742499  151.001542   645000   \n",
       "5237  3062   House: One Storey / Lowset -33.742499  151.001542   645000   \n",
       "5238  3062   House: One Storey / Lowset -33.742499  151.001542   645000   \n",
       "5239  3062   House: One Storey / Lowset -33.742499  151.001542   645000   \n",
       "5240  3062   House: One Storey / Lowset -33.742499  151.001542   645000   \n",
       "\n",
       "              Closest Station  Straight Distance (km)  \n",
       "0     Castle Hill Station NSW                0.769219  \n",
       "1     Castle Hill Station NSW                0.721314  \n",
       "2     Castle Hill Station NSW                0.714831  \n",
       "3     Castle Hill Station NSW                0.956413  \n",
       "4     Castle Hill Station NSW                0.996928  \n",
       "5     Castle Hill Station NSW                1.005271  \n",
       "6     Castle Hill Station NSW                1.010922  \n",
       "7     Castle Hill Station NSW                1.030710  \n",
       "8     Castle Hill Station NSW                1.035917  \n",
       "9     Castle Hill Station NSW                1.032241  \n",
       "10    Castle Hill Station NSW                0.976880  \n",
       "11    Cherrybrook Station NSW                2.524494  \n",
       "12    Cherrybrook Station NSW                2.539421  \n",
       "13    Cherrybrook Station NSW                2.573953  \n",
       "14    Cherrybrook Station NSW                2.582791  \n",
       "15    Cherrybrook Station NSW                2.533169  \n",
       "16    Cherrybrook Station NSW                2.567728  \n",
       "17    Castle Hill Station NSW                2.433652  \n",
       "18    Castle Hill Station NSW                2.392754  \n",
       "19    Castle Hill Station NSW                2.387466  \n",
       "20    Castle Hill Station NSW                2.375570  \n",
       "21    Castle Hill Station NSW                2.358398  \n",
       "22    Castle Hill Station NSW                2.334613  \n",
       "23    Castle Hill Station NSW                2.321748  \n",
       "24    Castle Hill Station NSW                2.291710  \n",
       "25    Castle Hill Station NSW                2.333478  \n",
       "26    Castle Hill Station NSW                2.295027  \n",
       "27    Castle Hill Station NSW                2.294120  \n",
       "28    Castle Hill Station NSW                2.291684  \n",
       "29    Cherrybrook Station NSW                1.220852  \n",
       "...                       ...                     ...  \n",
       "5211  Castle Hill Station NSW                1.321890  \n",
       "5212  Castle Hill Station NSW                1.321890  \n",
       "5213  Castle Hill Station NSW                1.321890  \n",
       "5214  Castle Hill Station NSW                1.321890  \n",
       "5215  Castle Hill Station NSW                1.321890  \n",
       "5216  Castle Hill Station NSW                1.321890  \n",
       "5217  Castle Hill Station NSW                1.321890  \n",
       "5218  Castle Hill Station NSW                1.321890  \n",
       "5219  Castle Hill Station NSW                1.321890  \n",
       "5220  Castle Hill Station NSW                1.321890  \n",
       "5221  Castle Hill Station NSW                1.321890  \n",
       "5222  Castle Hill Station NSW                1.321890  \n",
       "5223  Castle Hill Station NSW                1.321890  \n",
       "5224  Castle Hill Station NSW                1.321890  \n",
       "5225  Castle Hill Station NSW                1.321890  \n",
       "5226  Castle Hill Station NSW                1.321890  \n",
       "5227  Castle Hill Station NSW                1.321890  \n",
       "5228  Castle Hill Station NSW                1.321890  \n",
       "5229  Castle Hill Station NSW                1.321890  \n",
       "5230  Castle Hill Station NSW                1.321890  \n",
       "5231  Castle Hill Station NSW                1.321890  \n",
       "5232  Castle Hill Station NSW                1.321890  \n",
       "5233  Castle Hill Station NSW                1.321890  \n",
       "5234  Castle Hill Station NSW                1.321890  \n",
       "5235  Castle Hill Station NSW                1.321890  \n",
       "5236  Castle Hill Station NSW                1.321890  \n",
       "5237  Castle Hill Station NSW                1.321890  \n",
       "5238  Castle Hill Station NSW                1.321890  \n",
       "5239  Castle Hill Station NSW                1.321890  \n",
       "5240  Castle Hill Station NSW                1.321890  \n",
       "\n",
       "[5241 rows x 12 columns]"
      ]
     },
     "execution_count": 1108,
     "metadata": {},
     "output_type": "execute_result"
    }
   ],
   "source": [
    "data"
   ]
  },
  {
   "cell_type": "code",
   "execution_count": 1109,
   "metadata": {
    "colab": {
     "base_uri": "https://localhost:8080/",
     "height": 349
    },
    "colab_type": "code",
    "id": "kkDuq6vcE-s2",
    "outputId": "2751f3b6-ec0f-4bd9-db7b-9e4b07c53cef"
   },
   "outputs": [
    {
     "data": {
      "text/html": [
       "<div>\n",
       "<style scoped>\n",
       "    .dataframe tbody tr th:only-of-type {\n",
       "        vertical-align: middle;\n",
       "    }\n",
       "\n",
       "    .dataframe tbody tr th {\n",
       "        vertical-align: top;\n",
       "    }\n",
       "\n",
       "    .dataframe thead th {\n",
       "        text-align: right;\n",
       "    }\n",
       "</style>\n",
       "<table border=\"1\" class=\"dataframe\">\n",
       "  <thead>\n",
       "    <tr style=\"text-align: right;\">\n",
       "      <th></th>\n",
       "      <th>Beds</th>\n",
       "      <th>Baths</th>\n",
       "      <th>Cars</th>\n",
       "      <th>Area</th>\n",
       "      <th>Date</th>\n",
       "      <th>Latitude</th>\n",
       "      <th>Longitude</th>\n",
       "      <th>Price</th>\n",
       "      <th>Straight Distance (km)</th>\n",
       "    </tr>\n",
       "  </thead>\n",
       "  <tbody>\n",
       "    <tr>\n",
       "      <th>count</th>\n",
       "      <td>5241.000000</td>\n",
       "      <td>5241.000000</td>\n",
       "      <td>5241.000000</td>\n",
       "      <td>5241.000000</td>\n",
       "      <td>5241.000000</td>\n",
       "      <td>5241.000000</td>\n",
       "      <td>5241.000000</td>\n",
       "      <td>5.241000e+03</td>\n",
       "      <td>5241.000000</td>\n",
       "    </tr>\n",
       "    <tr>\n",
       "      <th>mean</th>\n",
       "      <td>3.578134</td>\n",
       "      <td>1.873497</td>\n",
       "      <td>1.882465</td>\n",
       "      <td>748.320345</td>\n",
       "      <td>3655.778096</td>\n",
       "      <td>-33.736885</td>\n",
       "      <td>150.997657</td>\n",
       "      <td>8.294840e+05</td>\n",
       "      <td>1.375195</td>\n",
       "    </tr>\n",
       "    <tr>\n",
       "      <th>std</th>\n",
       "      <td>0.698452</td>\n",
       "      <td>0.684776</td>\n",
       "      <td>0.688454</td>\n",
       "      <td>451.065318</td>\n",
       "      <td>1924.435816</td>\n",
       "      <td>0.009707</td>\n",
       "      <td>0.011367</td>\n",
       "      <td>3.321804e+05</td>\n",
       "      <td>0.282027</td>\n",
       "    </tr>\n",
       "    <tr>\n",
       "      <th>min</th>\n",
       "      <td>1.000000</td>\n",
       "      <td>1.000000</td>\n",
       "      <td>1.000000</td>\n",
       "      <td>1.930000</td>\n",
       "      <td>18.000000</td>\n",
       "      <td>-33.750765</td>\n",
       "      <td>150.968669</td>\n",
       "      <td>1.350000e+04</td>\n",
       "      <td>0.104005</td>\n",
       "    </tr>\n",
       "    <tr>\n",
       "      <th>25%</th>\n",
       "      <td>3.000000</td>\n",
       "      <td>1.000000</td>\n",
       "      <td>1.000000</td>\n",
       "      <td>696.000000</td>\n",
       "      <td>2405.000000</td>\n",
       "      <td>-33.742241</td>\n",
       "      <td>151.000223</td>\n",
       "      <td>6.000000e+05</td>\n",
       "      <td>1.290196</td>\n",
       "    </tr>\n",
       "    <tr>\n",
       "      <th>50%</th>\n",
       "      <td>3.000000</td>\n",
       "      <td>2.000000</td>\n",
       "      <td>2.000000</td>\n",
       "      <td>696.000000</td>\n",
       "      <td>3690.000000</td>\n",
       "      <td>-33.741850</td>\n",
       "      <td>151.000724</td>\n",
       "      <td>7.300000e+05</td>\n",
       "      <td>1.321413</td>\n",
       "    </tr>\n",
       "    <tr>\n",
       "      <th>75%</th>\n",
       "      <td>4.000000</td>\n",
       "      <td>2.000000</td>\n",
       "      <td>2.000000</td>\n",
       "      <td>715.000000</td>\n",
       "      <td>5599.000000</td>\n",
       "      <td>-33.740201</td>\n",
       "      <td>151.000969</td>\n",
       "      <td>9.650000e+05</td>\n",
       "      <td>1.366469</td>\n",
       "    </tr>\n",
       "    <tr>\n",
       "      <th>max</th>\n",
       "      <td>6.000000</td>\n",
       "      <td>7.000000</td>\n",
       "      <td>6.000000</td>\n",
       "      <td>24960.000000</td>\n",
       "      <td>7350.000000</td>\n",
       "      <td>-33.704355</td>\n",
       "      <td>151.031195</td>\n",
       "      <td>4.800000e+06</td>\n",
       "      <td>2.712580</td>\n",
       "    </tr>\n",
       "  </tbody>\n",
       "</table>\n",
       "</div>"
      ],
      "text/plain": [
       "              Beds        Baths         Cars          Area         Date  \\\n",
       "count  5241.000000  5241.000000  5241.000000   5241.000000  5241.000000   \n",
       "mean      3.578134     1.873497     1.882465    748.320345  3655.778096   \n",
       "std       0.698452     0.684776     0.688454    451.065318  1924.435816   \n",
       "min       1.000000     1.000000     1.000000      1.930000    18.000000   \n",
       "25%       3.000000     1.000000     1.000000    696.000000  2405.000000   \n",
       "50%       3.000000     2.000000     2.000000    696.000000  3690.000000   \n",
       "75%       4.000000     2.000000     2.000000    715.000000  5599.000000   \n",
       "max       6.000000     7.000000     6.000000  24960.000000  7350.000000   \n",
       "\n",
       "          Latitude    Longitude         Price  Straight Distance (km)  \n",
       "count  5241.000000  5241.000000  5.241000e+03             5241.000000  \n",
       "mean    -33.736885   150.997657  8.294840e+05                1.375195  \n",
       "std       0.009707     0.011367  3.321804e+05                0.282027  \n",
       "min     -33.750765   150.968669  1.350000e+04                0.104005  \n",
       "25%     -33.742241   151.000223  6.000000e+05                1.290196  \n",
       "50%     -33.741850   151.000724  7.300000e+05                1.321413  \n",
       "75%     -33.740201   151.000969  9.650000e+05                1.366469  \n",
       "max     -33.704355   151.031195  4.800000e+06                2.712580  "
      ]
     },
     "execution_count": 1109,
     "metadata": {},
     "output_type": "execute_result"
    }
   ],
   "source": [
    "data.describe()"
   ]
  },
  {
   "cell_type": "markdown",
   "metadata": {
    "colab_type": "text",
    "id": "Oj-mRnSWIIvz"
   },
   "source": [
    "From the describe we can see there are some outliers in the price attributes"
   ]
  },
  {
   "cell_type": "code",
   "execution_count": 1110,
   "metadata": {
    "colab": {},
    "colab_type": "code",
    "id": "9LQ8m49KHefh"
   },
   "outputs": [],
   "source": [
    "#drop the samples that the price is lower 10000\n",
    "data = data.drop(data[data['Price'] < 10000].index)\n",
    "#do we have any missing data\n",
    "data.isnull().sum().sort_values(ascending=False)\n",
    "#drop the rows with None\n",
    "data.dropna(inplace=True)"
   ]
  },
  {
   "cell_type": "code",
   "execution_count": 1111,
   "metadata": {
    "colab": {
     "base_uri": "https://localhost:8080/",
     "height": 416
    },
    "colab_type": "code",
    "id": "LS_MokycPYMx",
    "outputId": "8b12d7da-3639-432f-a525-ac13568a6087"
   },
   "outputs": [
    {
     "data": {
      "text/plain": [
       "House                          2929\n",
       "House: One Storey / Lowset     2212\n",
       "Unit                             33\n",
       "Unit: Townhouse/Villa            29\n",
       "House: Two Storey / Highset      25\n",
       "Land                              4\n",
       "House: Semi Detached              2\n",
       "Land: General                     2\n",
       "Unit: Standard                    2\n",
       "Unit: Triplex                     1\n",
       "House: Duplex                     1\n",
       "Unit: Studio                      1\n",
       "Name: Ptype, dtype: int64"
      ]
     },
     "execution_count": 1111,
     "metadata": {},
     "output_type": "execute_result"
    }
   ],
   "source": [
    "# show the occurrence number of each type\n",
    "# there are some types occurs less than 10 times \n",
    "data['Ptype'].value_counts()"
   ]
  },
  {
   "cell_type": "code",
   "execution_count": 1112,
   "metadata": {
    "colab": {},
    "colab_type": "code",
    "id": "NVtYiY6OGGIX"
   },
   "outputs": [],
   "source": [
    "# remove the type of house that occurs less than 10 times\n",
    "t = data['Ptype'].value_counts()\n",
    "for i in range(len(t)):\n",
    "  if (t.values[i]) < 10:\n",
    "      data.drop(data[data['Ptype'] == t.index[i]].index, inplace=True)"
   ]
  },
  {
   "cell_type": "markdown",
   "metadata": {
    "colab_type": "text",
    "id": "eVM8QF29Mj6K"
   },
   "source": [
    "# Data Preprocessing"
   ]
  },
  {
   "cell_type": "markdown",
   "metadata": {
    "colab_type": "text",
    "id": "QIVAjsPmVBJ1"
   },
   "source": [
    "## Convert Date to the number of days\n",
    "Need to convert the string date to the format that will be understood by the machine learning methods"
   ]
  },
  {
   "cell_type": "code",
   "execution_count": 1113,
   "metadata": {
    "colab": {},
    "colab_type": "code",
    "id": "HbqZnl3kfe5B"
   },
   "outputs": [],
   "source": [
    "# use re.sub to replace the year -01 with -2001\n",
    "# def _add_20(str_):\n",
    "#     return str((str_.group()) + '20')\n",
    "\n",
    "# def replace_date(date):\n",
    "#   new_date = re.sub(r'\\d{1,2}-[a-z,A-z]{3}-',_add_20, date)\n",
    "#   return new_date"
   ]
  },
  {
   "cell_type": "code",
   "execution_count": 1114,
   "metadata": {
    "colab": {},
    "colab_type": "code",
    "id": "FwBjozaTgjsw"
   },
   "outputs": [],
   "source": [
    "# data['Date'] = data['Date'].apply(replace_date)"
   ]
  },
  {
   "cell_type": "code",
   "execution_count": 1115,
   "metadata": {
    "colab": {},
    "colab_type": "code",
    "id": "O0TrQN82VOEy"
   },
   "outputs": [],
   "source": [
    "# def calculate_days(date):\n",
    "#   day = datetime.datetime.strptime(date,'%d-%b-%Y')\n",
    "#   delta = datetime.datetime.now() -day\n",
    "#   return delta.days"
   ]
  },
  {
   "cell_type": "code",
   "execution_count": 1116,
   "metadata": {
    "colab": {},
    "colab_type": "code",
    "id": "HBUL22g2kbhI"
   },
   "outputs": [],
   "source": [
    "# data['Date'] = data['Date'].apply(calculate_days)"
   ]
  },
  {
   "cell_type": "code",
   "execution_count": 1117,
   "metadata": {
    "colab": {},
    "colab_type": "code",
    "id": "qOVC_beSklno"
   },
   "outputs": [],
   "source": [
    "# data['Date']"
   ]
  },
  {
   "cell_type": "code",
   "execution_count": 1118,
   "metadata": {
    "colab": {},
    "colab_type": "code",
    "id": "nWETOjtRQGDj"
   },
   "outputs": [],
   "source": [
    "# discard the date before 2000\n",
    "# data = data.drop(data[data['Date'] < 0].index)"
   ]
  },
  {
   "cell_type": "markdown",
   "metadata": {
    "colab_type": "text",
    "id": "rDEcQVo5_E5N"
   },
   "source": [
    "# Data Exploration"
   ]
  },
  {
   "cell_type": "code",
   "execution_count": 1119,
   "metadata": {
    "colab": {
     "base_uri": "https://localhost:8080/",
     "height": 536
    },
    "colab_type": "code",
    "id": "GjDFyCROQu-S",
    "outputId": "7563c983-6e57-4e09-e886-08b643df73b5"
   },
   "outputs": [
    {
     "data": {
      "image/png": "[encoded data removed]",
      "text/plain": [
       "<Figure size 720x504 with 2 Axes>"
      ]
     },
     "metadata": {
      "needs_background": "light"
     },
     "output_type": "display_data"
    }
   ],
   "source": [
    "# plot correlation map to see if there is any positive/negative relation among these attributes\n",
    "# Price has the positive relations with beds, baths and cars. However, it is weird that the area has a negative\n",
    "# relation with price\n",
    "corrmat = data.corr()\n",
    "f, ax = plt.subplots(figsize=(10, 7))\n",
    "sns.heatmap(corrmat, vmin=-1, vmax=1, square=True, annot=True);"
   ]
  },
  {
   "cell_type": "code",
   "execution_count": 1120,
   "metadata": {
    "colab": {
     "base_uri": "https://localhost:8080/",
     "height": 819
    },
    "colab_type": "code",
    "id": "52-VTDxS9i-6",
    "outputId": "9514bee1-592c-47c9-bd53-db62d5f96a31"
   },
   "outputs": [
    {
     "name": "stderr",
     "output_type": "stream",
     "text": [
      "C:\\Users\\jing\\Anaconda3\\lib\\site-packages\\seaborn\\axisgrid.py:2262: UserWarning: The `size` paramter has been renamed to `height`; please update your code.\n",
      "  warnings.warn(msg, UserWarning)\n"
     ]
    },
    {
     "data": {
      "text/plain": [
       "<Figure size 720x720 with 0 Axes>"
      ]
     },
     "metadata": {},
     "output_type": "display_data"
    },
    {
     "data": {
      "image/png": "[encoded data removed]",
      "text/plain": [
       "<Figure size 720x720 with 3 Axes>"
      ]
     },
     "metadata": {
      "needs_background": "light"
     },
     "output_type": "display_data"
    },
    {
     "data": {
      "text/plain": [
       "<function seaborn.utils.despine(fig=None, ax=None, top=True, right=True, left=False, bottom=False, offset=None, trim=False)>"
      ]
     },
     "execution_count": 1120,
     "metadata": {},
     "output_type": "execute_result"
    }
   ],
   "source": [
    "# visulatize the location of the house we have chosen\n",
    "import matplotlib.pyplot as plt\n",
    "import seaborn as sns\n",
    "\n",
    "plt.figure(figsize=(10, 10))\n",
    "sns.jointplot(x= data.Latitude.values, y= data.Longitude.values, size=10)\n",
    "plt.ylabel('Longitude', fontsize=12)\n",
    "plt.xlabel('Latitude', fontsize=12)\n",
    "plt.show()\n",
    "sns.despine\n"
   ]
  },
  {
   "cell_type": "code",
   "execution_count": 1121,
   "metadata": {
    "colab": {
     "base_uri": "https://localhost:8080/",
     "height": 311
    },
    "colab_type": "code",
    "id": "VSGz_qZw_b_u",
    "outputId": "a32f21ba-1828-4edb-a576-12bf655d68bd"
   },
   "outputs": [
    {
     "data": {
      "text/plain": [
       "Text(0.5, 1.0, 'Pirce vs Area')"
      ]
     },
     "execution_count": 1121,
     "metadata": {},
     "output_type": "execute_result"
    },
    {
     "data": {
      "image/png": "[encoded data removed]",
      "text/plain": [
       "<Figure size 432x288 with 1 Axes>"
      ]
     },
     "metadata": {
      "needs_background": "light"
     },
     "output_type": "display_data"
    }
   ],
   "source": [
    "plt.scatter(data.Price.values, data.Area.values)\n",
    "plt.title('Pirce vs Area')"
   ]
  },
  {
   "cell_type": "code",
   "execution_count": 1122,
   "metadata": {
    "colab": {
     "base_uri": "https://localhost:8080/",
     "height": 311
    },
    "colab_type": "code",
    "id": "1k8EDtwnAUPv",
    "outputId": "0cbcc759-f7f6-4e4a-a37d-111ce3a23168"
   },
   "outputs": [
    {
     "data": {
      "text/plain": [
       "Text(0.5, 1.0, 'Price vs Longitude')"
      ]
     },
     "execution_count": 1122,
     "metadata": {},
     "output_type": "execute_result"
    },
    {
     "data": {
      "image/png": "[encoded data removed]",
      "text/plain": [
       "<Figure size 432x288 with 1 Axes>"
      ]
     },
     "metadata": {
      "needs_background": "light"
     },
     "output_type": "display_data"
    }
   ],
   "source": [
    "plt.scatter(data.Price, data.Longitude)\n",
    "plt.title('Price vs Longitude')"
   ]
  },
  {
   "cell_type": "code",
   "execution_count": 1123,
   "metadata": {
    "colab": {
     "base_uri": "https://localhost:8080/",
     "height": 311
    },
    "colab_type": "code",
    "id": "e1plQhNPApov",
    "outputId": "6d80bf8e-2ed0-4ec8-8198-99a56d645ea4"
   },
   "outputs": [
    {
     "data": {
      "text/plain": [
       "Text(0.5, 1.0, 'Price vs Latitude')"
      ]
     },
     "execution_count": 1123,
     "metadata": {},
     "output_type": "execute_result"
    },
    {
     "data": {
      "image/png": "[encoded data removed]",
      "text/plain": [
       "<Figure size 432x288 with 1 Axes>"
      ]
     },
     "metadata": {
      "needs_background": "light"
     },
     "output_type": "display_data"
    }
   ],
   "source": [
    "plt.scatter(data.Price, data.Latitude)\n",
    "plt.title('Price vs Latitude')"
   ]
  },
  {
   "cell_type": "code",
   "execution_count": 1124,
   "metadata": {
    "colab": {
     "base_uri": "https://localhost:8080/",
     "height": 311
    },
    "colab_type": "code",
    "id": "hbGM17hQA2w0",
    "outputId": "bfeee40a-015b-4c27-c485-43a57329e001"
   },
   "outputs": [
    {
     "data": {
      "text/plain": [
       "Text(0.5, 1.0, 'Price vs saled date')"
      ]
     },
     "execution_count": 1124,
     "metadata": {},
     "output_type": "execute_result"
    },
    {
     "data": {
      "image/png": "[encoded data removed]",
      "text/plain": [
       "<Figure size 432x288 with 1 Axes>"
      ]
     },
     "metadata": {
      "needs_background": "light"
     },
     "output_type": "display_data"
    }
   ],
   "source": [
    "plt.scatter(data.Price, data.Date)\n",
    "plt.title('Price vs saled date')"
   ]
  },
  {
   "cell_type": "code",
   "execution_count": 1125,
   "metadata": {
    "colab": {
     "base_uri": "https://localhost:8080/",
     "height": 311
    },
    "colab_type": "code",
    "id": "2aVwp1h5BM34",
    "outputId": "152d9fe2-f9a4-4368-f18b-f7f127406ff1"
   },
   "outputs": [
    {
     "data": {
      "text/plain": [
       "Text(0.5, 1.0, 'Price vs cars')"
      ]
     },
     "execution_count": 1125,
     "metadata": {},
     "output_type": "execute_result"
    },
    {
     "data": {
      "image/png": "[encoded data removed]",
      "text/plain": [
       "<Figure size 432x288 with 1 Axes>"
      ]
     },
     "metadata": {
      "needs_background": "light"
     },
     "output_type": "display_data"
    }
   ],
   "source": [
    "plt.scatter(data.Price, data.Cars)\n",
    "plt.title(\"Price vs cars\")"
   ]
  },
  {
   "cell_type": "code",
   "execution_count": 1126,
   "metadata": {
    "colab": {
     "base_uri": "https://localhost:8080/",
     "height": 311
    },
    "colab_type": "code",
    "id": "1MatbMxdBhto",
    "outputId": "3b242a86-d2ee-40c4-fdce-483974f8ca6d"
   },
   "outputs": [
    {
     "data": {
      "text/plain": [
       "Text(0.5, 1.0, 'Price vs Baths')"
      ]
     },
     "execution_count": 1126,
     "metadata": {},
     "output_type": "execute_result"
    },
    {
     "data": {
      "image/png": "[encoded data removed]",
      "text/plain": [
       "<Figure size 432x288 with 1 Axes>"
      ]
     },
     "metadata": {
      "needs_background": "light"
     },
     "output_type": "display_data"
    }
   ],
   "source": [
    "plt.scatter(data.Price, data.Baths)\n",
    "plt.title('Price vs Baths')"
   ]
  },
  {
   "cell_type": "code",
   "execution_count": 1127,
   "metadata": {
    "colab": {
     "base_uri": "https://localhost:8080/",
     "height": 311
    },
    "colab_type": "code",
    "id": "tQ8Iu8vjB4Rz",
    "outputId": "71476cf0-b848-476e-952b-64bf6dde82cd"
   },
   "outputs": [
    {
     "data": {
      "text/plain": [
       "Text(0.5, 1.0, 'Price vs Beds')"
      ]
     },
     "execution_count": 1127,
     "metadata": {},
     "output_type": "execute_result"
    },
    {
     "data": {
      "image/png": "[encoded data removed]",
      "text/plain": [
       "<Figure size 432x288 with 1 Axes>"
      ]
     },
     "metadata": {
      "needs_background": "light"
     },
     "output_type": "display_data"
    }
   ],
   "source": [
    "plt.scatter(data.Price, data.Beds)\n",
    "plt.title('Price vs Beds')"
   ]
  },
  {
   "cell_type": "code",
   "execution_count": 1128,
   "metadata": {
    "colab": {
     "base_uri": "https://localhost:8080/",
     "height": 295
    },
    "colab_type": "code",
    "id": "E7vi1al4Cr-F",
    "outputId": "54b8abaa-2c61-489b-e619-0bcc9d6a2d95"
   },
   "outputs": [
    {
     "data": {
      "text/plain": [
       "<matplotlib.collections.PathCollection at 0x1e5b94ba160>"
      ]
     },
     "execution_count": 1128,
     "metadata": {},
     "output_type": "execute_result"
    },
    {
     "data": {
      "image/png": "[encoded data removed]",
      "text/plain": [
       "<Figure size 432x288 with 1 Axes>"
      ]
     },
     "metadata": {
      "needs_background": "light"
     },
     "output_type": "display_data"
    }
   ],
   "source": [
    "plt.scatter(data.Price, data['Straight Distance (km)'])"
   ]
  },
  {
   "cell_type": "markdown",
   "metadata": {
    "colab_type": "text",
    "id": "GRXRx99NMrdJ"
   },
   "source": [
    "# one-hot encoding\n",
    "For the regression method such as deep learning neural network, the string data is not acceptable. So we have to use encode the Ptye attribute using one-hot encoding"
   ]
  },
  {
   "cell_type": "code",
   "execution_count": 1129,
   "metadata": {
    "colab": {},
    "colab_type": "code",
    "id": "jXK30McHNu8b"
   },
   "outputs": [],
   "source": [
    "data.drop(columns=['Address', 'Closest Station', 'Ptype'], inplace=True)"
   ]
  },
  {
   "cell_type": "code",
   "execution_count": 1130,
   "metadata": {
    "colab": {},
    "colab_type": "code",
    "id": "uVsKNwxlMnmQ"
   },
   "outputs": [],
   "source": [
    "#  data = pd.get_dummies(data, columns=['Ptype','Closest Station'])\n",
    "# data = pd.get_dummies(data, columns=['Ptype'])"
   ]
  },
  {
   "cell_type": "markdown",
   "metadata": {
    "colab_type": "text",
    "id": "jlywlPMqldQy"
   },
   "source": [
    "# Train-Test Split"
   ]
  },
  {
   "cell_type": "code",
   "execution_count": 1131,
   "metadata": {
    "colab": {},
    "colab_type": "code",
    "id": "-X9_P_ubmaSq"
   },
   "outputs": [],
   "source": [
    "# the target value\n",
    "y = data['Price'].values.reshape(-1)"
   ]
  },
  {
   "cell_type": "code",
   "execution_count": 1132,
   "metadata": {
    "colab": {},
    "colab_type": "code",
    "id": "vPz-a7Khlpl7"
   },
   "outputs": [],
   "source": [
    "# training data\n",
    "x = data.drop(columns=['Price']).values"
   ]
  },
  {
   "cell_type": "code",
   "execution_count": 1133,
   "metadata": {
    "colab": {},
    "colab_type": "code",
    "id": "wfAeBGlkqP8K"
   },
   "outputs": [
    {
     "name": "stderr",
     "output_type": "stream",
     "text": [
      "C:\\Users\\jing\\Anaconda3\\lib\\site-packages\\sklearn\\model_selection\\_split.py:2179: FutureWarning: From version 0.21, test_size will always complement train_size unless both are specified.\n",
      "  FutureWarning)\n"
     ]
    }
   ],
   "source": [
    "# split it into train and test\n",
    "X_train, X_test, y_train, y_test = train_test_split(x,y, train_size = 0.8, random_state = 42)"
   ]
  },
  {
   "cell_type": "code",
   "execution_count": 1134,
   "metadata": {
    "colab": {
     "base_uri": "https://localhost:8080/",
     "height": 35
    },
    "colab_type": "code",
    "id": "YULWZicKq2Ie",
    "outputId": "f0ffeb3e-f43e-40ed-f75b-859bdeee40f5"
   },
   "outputs": [
    {
     "data": {
      "text/plain": [
       "((4182, 8), (1046, 8), (4182,), (1046,))"
      ]
     },
     "execution_count": 1134,
     "metadata": {},
     "output_type": "execute_result"
    }
   ],
   "source": [
    "X_train.shape, X_test.shape, y_train.shape, y_test.shape"
   ]
  },
  {
   "cell_type": "code",
   "execution_count": 1139,
   "metadata": {},
   "outputs": [
    {
     "data": {
      "text/plain": [
       "array([  3.        ,   1.        ,   2.        , 696.        ,\n",
       "       811.        , -33.7418251 , 151.0003142 ,   1.30611335])"
      ]
     },
     "execution_count": 1139,
     "metadata": {},
     "output_type": "execute_result"
    }
   ],
   "source": [
    "X_train[0]"
   ]
  },
  {
   "cell_type": "markdown",
   "metadata": {
    "colab_type": "text",
    "id": "eaQK0ZoVt63t"
   },
   "source": [
    "# Min Max Normalisation\n",
    "\n",
    "We found that for our dataset, the model performs better in the data without normalisation\n"
   ]
  },
  {
   "cell_type": "code",
   "execution_count": 1095,
   "metadata": {
    "colab": {},
    "colab_type": "code",
    "id": "uMbjuHkVucoR"
   },
   "outputs": [],
   "source": [
    "# scaler = MinMaxScaler()\n",
    "# X_train = scaler.fit_transform(X_train)\n",
    "# X_train[:,3:7] = scaler.fit_transform(X_train[:,3:7])\n",
    "# X_test[:,3:7] = scaler.fit_transform(X_test[:,3:7])"
   ]
  },
  {
   "cell_type": "markdown",
   "metadata": {
    "colab_type": "text",
    "id": "10ZC2h4D7DKT"
   },
   "source": [
    "# Linear Regression"
   ]
  },
  {
   "cell_type": "code",
   "execution_count": 1096,
   "metadata": {
    "colab": {
     "base_uri": "https://localhost:8080/",
     "height": 35
    },
    "colab_type": "code",
    "id": "7quZxRmv7bng",
    "outputId": "af96fa78-f612-4120-a7f8-6399a9a6920a"
   },
   "outputs": [
    {
     "data": {
      "text/plain": [
       "LinearRegression(copy_X=True, fit_intercept=True, n_jobs=None,\n",
       "         normalize=False)"
      ]
     },
     "execution_count": 1096,
     "metadata": {},
     "output_type": "execute_result"
    }
   ],
   "source": [
    "regressor = LinearRegression()  \n",
    "regressor.fit(X_train, y_train)"
   ]
  },
  {
   "cell_type": "code",
   "execution_count": 1097,
   "metadata": {
    "colab": {
     "base_uri": "https://localhost:8080/",
     "height": 35
    },
    "colab_type": "code",
    "id": "YdOSgDJaYiLD",
    "outputId": "fcbb0a79-6fe3-4142-b6d7-63cb732add38"
   },
   "outputs": [
    {
     "data": {
      "text/plain": [
       "0.6802488299524905"
      ]
     },
     "execution_count": 1097,
     "metadata": {},
     "output_type": "execute_result"
    }
   ],
   "source": [
    "# performance score is R squared\n",
    "regressor.score(X_test, y_test)"
   ]
  },
  {
   "cell_type": "markdown",
   "metadata": {
    "colab_type": "text",
    "id": "8cVEFa83rFU7"
   },
   "source": [
    "# Random Forest Tree"
   ]
  },
  {
   "cell_type": "code",
   "execution_count": 1098,
   "metadata": {
    "colab": {
     "base_uri": "https://localhost:8080/",
     "height": 139
    },
    "colab_type": "code",
    "id": "dHlssQs6rJdU",
    "outputId": "0c9f79d0-d8fa-4114-ed3d-27ddc54d3be7"
   },
   "outputs": [
    {
     "data": {
      "text/plain": [
       "RandomForestRegressor(bootstrap=True, criterion='mse', max_depth=5,\n",
       "           max_features='auto', max_leaf_nodes=None,\n",
       "           min_impurity_decrease=0.0, min_impurity_split=None,\n",
       "           min_samples_leaf=1, min_samples_split=2,\n",
       "           min_weight_fraction_leaf=0.0, n_estimators=180, n_jobs=None,\n",
       "           oob_score=False, random_state=42, verbose=0, warm_start=False)"
      ]
     },
     "execution_count": 1098,
     "metadata": {},
     "output_type": "execute_result"
    }
   ],
   "source": [
    "# Instantiate model with 100 decision trees\n",
    "rf = RandomForestRegressor(n_estimators = 180, max_depth=5, random_state=42)\n",
    "# train the model\n",
    "rf.fit(X_train, y_train)"
   ]
  },
  {
   "cell_type": "code",
   "execution_count": 1099,
   "metadata": {
    "colab": {
     "base_uri": "https://localhost:8080/",
     "height": 35
    },
    "colab_type": "code",
    "id": "8I0JJAN-Y4KC",
    "outputId": "b724fd6a-a76c-48f8-9afc-4e148875f5bc"
   },
   "outputs": [
    {
     "data": {
      "text/plain": [
       "0.8712071397334583"
      ]
     },
     "execution_count": 1099,
     "metadata": {},
     "output_type": "execute_result"
    }
   ],
   "source": [
    "rf.score(X_test, y_test)"
   ]
  },
  {
   "cell_type": "markdown",
   "metadata": {
    "colab_type": "text",
    "id": "VNOwA_yRZFi1"
   },
   "source": [
    "# Gradinet Boosting Regressor"
   ]
  },
  {
   "cell_type": "code",
   "execution_count": 1100,
   "metadata": {
    "colab": {},
    "colab_type": "code",
    "id": "rrqE4gkta7t1"
   },
   "outputs": [],
   "source": [
    "\n",
    "clf = GradientBoostingRegressor(n_estimators=200, max_depth=4, \n",
    "                                random_state=42, learning_rate=0.05, loss='ls', min_samples_split=2)"
   ]
  },
  {
   "cell_type": "code",
   "execution_count": 1101,
   "metadata": {
    "colab": {
     "base_uri": "https://localhost:8080/",
     "height": 173
    },
    "colab_type": "code",
    "id": "xZpoe5nyc20F",
    "outputId": "fcbab2c0-340f-47ea-c198-8ed1eafa9fe4"
   },
   "outputs": [
    {
     "data": {
      "text/plain": [
       "GradientBoostingRegressor(alpha=0.9, criterion='friedman_mse', init=None,\n",
       "             learning_rate=0.05, loss='ls', max_depth=4, max_features=None,\n",
       "             max_leaf_nodes=None, min_impurity_decrease=0.0,\n",
       "             min_impurity_split=None, min_samples_leaf=1,\n",
       "             min_samples_split=2, min_weight_fraction_leaf=0.0,\n",
       "             n_estimators=200, n_iter_no_change=None, presort='auto',\n",
       "             random_state=42, subsample=1.0, tol=0.0001,\n",
       "             validation_fraction=0.1, verbose=0, warm_start=False)"
      ]
     },
     "execution_count": 1101,
     "metadata": {},
     "output_type": "execute_result"
    }
   ],
   "source": [
    "clf.fit(X_train, y_train)"
   ]
  },
  {
   "cell_type": "code",
   "execution_count": 1102,
   "metadata": {
    "colab": {
     "base_uri": "https://localhost:8080/",
     "height": 35
    },
    "colab_type": "code",
    "id": "KdJUW023c8Gj",
    "outputId": "a3fe95db-bc85-49ca-8645-a87f1beecb52"
   },
   "outputs": [
    {
     "data": {
      "text/plain": [
       "0.8820382438141846"
      ]
     },
     "execution_count": 1102,
     "metadata": {},
     "output_type": "execute_result"
    }
   ],
   "source": [
    "clf.score(X_test, y_test)"
   ]
  },
  {
   "cell_type": "markdown",
   "metadata": {},
   "source": [
    "# Save Model"
   ]
  },
  {
   "cell_type": "code",
   "execution_count": 1103,
   "metadata": {},
   "outputs": [],
   "source": [
    "import joblib"
   ]
  },
  {
   "cell_type": "code",
   "execution_count": 1104,
   "metadata": {},
   "outputs": [],
   "source": [
    "# save the model to disk\n",
    "filename = './models/NSW2154.sav'\n",
    "# joblib.dump(clf, open(filename, 'wb'))"
   ]
  },
  {
   "cell_type": "code",
   "execution_count": 1105,
   "metadata": {},
   "outputs": [
    {
     "name": "stdout",
     "output_type": "stream",
     "text": [
      "0.8820382438141846\n"
     ]
    }
   ],
   "source": [
    "# some time later...\n",
    " \n",
    "# load the model from disk\n",
    "loaded_model = joblib.load(filename)\n",
    "result = loaded_model.score(X_test, y_test)\n",
    "print(result)"
   ]
  },
  {
   "cell_type": "code",
   "execution_count": 1147,
   "metadata": {},
   "outputs": [
    {
     "data": {
      "text/plain": [
       "(1, 8)"
      ]
     },
     "execution_count": 1147,
     "metadata": {},
     "output_type": "execute_result"
    }
   ],
   "source": [
    "np.array([3, 3, 1, 400, 20, -33.7, 151.4, 1.5]).reshape(1,-1).shape"
   ]
  },
  {
   "cell_type": "code",
   "execution_count": 1152,
   "metadata": {},
   "outputs": [
    {
     "data": {
      "text/plain": [
       "1611461.3492248917"
      ]
     },
     "execution_count": 1152,
     "metadata": {},
     "output_type": "execute_result"
    }
   ],
   "source": [
    "loaded_model.predict(np.array([3, 3, 1, 400, 20, -33.7, 151.4, 1.5]).reshape(1,-1))"
   ]
  },
  {
   "cell_type": "code",
   "execution_count": null,
   "metadata": {},
   "outputs": [],
   "source": []
  }
 ],
 "metadata": {
  "colab": {
   "collapsed_sections": [],
   "name": "Housing_Price_Prediction.ipynb",
   "provenance": [],
   "toc_visible": true
  },
  "kernelspec": {
   "display_name": "Python 3",
   "language": "python",
   "name": "python3"
  },
  "language_info": {
   "codemirror_mode": {
    "name": "ipython",
    "version": 3
   },
   "file_extension": ".py",
   "mimetype": "text/x-python",
   "name": "python",
   "nbconvert_exporter": "python",
   "pygments_lexer": "ipython3",
   "version": "3.7.3"
  }
 },
 "nbformat": 4,
 "nbformat_minor": 1
}
